{
 "cells": [
  {
   "cell_type": "markdown",
   "metadata": {},
   "source": [
    "# Time/Space Complexity - Intro to Data Structures (User Defined)\n",
    "\n",
    "### Topics to discuss today:\n",
    "\n",
    "<ul>\n",
    "    <li>Time and Space Complexity - What is it/How do we measure it</li>\n",
    "    <li>Asymptotic Analysis</li>\n",
    "    <li><strong>Data Structures</strong></li>\n",
    "    <li>Some of the popular sorting algorithms</li>\n",
    "</ul>\n",
    "\n",
    "### Data Structures to discuss:\n",
    "- Arrays\n",
    "- Stacks\n",
    "- Queues\n",
    "- Linked Lists\n",
    "    - Singly Linked Lists\n",
    "    - Traversing A Linked List\n",
    "    - Finding a node in a linked list\n",
    "    - Adding to a linked list\n",
    "- Binary Search Trees\n",
    "    - Construction\n",
    "    - Traversal\n"
   ]
  },
  {
   "cell_type": "markdown",
   "metadata": {},
   "source": [
    "## Time and Space Complexity\n",
    "\n",
    "#### What is it?\n",
    "\n",
    "Time and space complexity is the measure of how much time a given action(function) will take to solve a problem. In the same fashion, we determine how much a given data structure will need in terms of memory allocation. A problem can have multiple solutions and finding the optimal solution for the problem needs to be analyzed in time and space.\n",
    "\n",
    "#### How do we measure Time and Space Complexity?\n",
    "\n",
    "In order to measure time and space complexity we use Asymptotic analysis. The reason for this is because we need a way to measure different algorithms (functions) based on the size of their inputs in a mathmatical way. For example, we could have a function that is computed as f(n) and another that is g(n^2). All things around the function staying constant, the only thing that changes is the size of the input. Below is the chart that shows the different Asymptotic analysis formats. "
   ]
  },
  {
   "cell_type": "markdown",
   "metadata": {},
   "source": [
    "<table style=\"text-align:center;\" class=\"table table-bordered\">\n",
    "<tbody><tr>\n",
    "<td>constant</td>\n",
    "<td>−</td>\n",
    "<td>Ο(1)</td>\n",
    "</tr>\n",
    "<tr>\n",
    "<td>logarithmic</td>\n",
    "<td>−</td>\n",
    "<td>Ο(log n)</td>\n",
    "</tr>\n",
    "<tr>\n",
    "<td>linear</td>\n",
    "<td>−</td>\n",
    "<td>Ο(n)</td>\n",
    "</tr>\n",
    "<tr>\n",
    "<td>Linear Logarithmic</td>\n",
    "<td>−</td>\n",
    "<td>Ο(n log n)</td>\n",
    "</tr>\n",
    "<tr>\n",
    "<td>quadratic</td>\n",
    "<td>−</td>\n",
    "<td>Ο(n<sup>2</sup>)</td>\n",
    "</tr>\n",
    "<tr>\n",
    "<td>cubic</td>\n",
    "<td>−</td>\n",
    "<td>Ο(n<sup>3</sup>)</td>\n",
    "</tr>\n",
    "<tr>\n",
    "<td>polynomial</td>\n",
    "<td>−</td>\n",
    "<td>n<sup>Ο(1)</sup></td>\n",
    "</tr>\n",
    "<tr>\n",
    "<td>exponential</td>\n",
    "<td>−</td>\n",
    "<td>2<sup>Ο(n)</sup></td>\n",
    "</tr>\n",
    "</tbody></table>"
   ]
  },
  {
   "cell_type": "markdown",
   "metadata": {},
   "source": [
    "## Arrays"
   ]
  },
  {
   "cell_type": "markdown",
   "metadata": {},
   "source": [
    "In python we benefit from the dynamic array which means the block of memory will expand as needed for the given input to the array. In traditional arrays (depending on the type of operating system) we will usually store our inputs in 4 or 8 consecutive blocks of memory. "
   ]
  },
  {
   "cell_type": "markdown",
   "metadata": {},
   "source": [
    "## Which in python looks like this:"
   ]
  },
  {
   "cell_type": "code",
   "execution_count": 5,
   "metadata": {},
   "outputs": [
    {
     "name": "stdout",
     "output_type": "stream",
     "text": [
      "[1, 2, 3, 4, 5, 6, 7, 8, 9, 10]\n"
     ]
    }
   ],
   "source": [
    "lst10 = []\n",
    "for i in range(1,11):\n",
    "    lst10.append(i)\n",
    "print(lst10)\n",
    "\n",
    "list10 = list(range(1,11))"
   ]
  },
  {
   "cell_type": "code",
   "execution_count": 12,
   "metadata": {},
   "outputs": [
    {
     "name": "stdout",
     "output_type": "stream",
     "text": [
      "[7, 1, 3, 6, 2, 1, 2, 9, 4, 7, 3, 4, 4, 5, 2, 3, 4, 1, 7, 1, 2, 1, 4, 2, 1, 2]\n"
     ]
    }
   ],
   "source": [
    "myList = [0] * 26\n",
    "for c in \"abcdefghijklmnasnsdmnchejiaolmasdmqpqwpiiwqhjznxahjsnhdjhguckjahdlajshlskdhwopqrstuvwxyz\":\n",
    "    val = ord(c) - 97\n",
    "    myList[val] += 1\n",
    "print(myList)"
   ]
  },
  {
   "cell_type": "markdown",
   "metadata": {},
   "source": [
    "### Let's take a look at some of the time and space analysis of arrays"
   ]
  },
  {
   "cell_type": "code",
   "execution_count": 14,
   "metadata": {},
   "outputs": [
    {
     "name": "stdout",
     "output_type": "stream",
     "text": [
      "[12, 1, 14, 18, 3, 7, 18, 10, 20, 16, 17, 9, 8, 14, 7, 18, 19, 4, 13, 8]\n"
     ]
    }
   ],
   "source": [
    "from random import randint\n",
    "\n",
    "array = [randint(1,20) for _ in range(20)]\n",
    "\n",
    "print(array)\n"
   ]
  },
  {
   "cell_type": "code",
   "execution_count": 15,
   "metadata": {},
   "outputs": [
    {
     "data": {
      "text/plain": [
       "[200, 1, 14, 18, 3, 7, 18, 10, 20, 16, 17, 9, 8, 14, 7, 18, 19, 4, 13, 8]"
      ]
     },
     "execution_count": 15,
     "metadata": {},
     "output_type": "execute_result"
    }
   ],
   "source": [
    "# indexing list \n",
    "# Constant Time O9=(1) Constant Space\n",
    "array[0] = 200\n",
    "array"
   ]
  },
  {
   "cell_type": "code",
   "execution_count": 19,
   "metadata": {},
   "outputs": [
    {
     "name": "stdout",
     "output_type": "stream",
     "text": [
      "200 1 14 18 3 7 18 10 20 16 17 9 8 14 7 18 19 4 13 8 \n",
      "[200, 1, 14, 18, 3, 7, 18, 10, 20, 16, 17, 9, 8, 14, 7, 18, 19, 4, 13, 8],"
     ]
    }
   ],
   "source": [
    "# searching throgh an array\n",
    "# based on input size in relation to memory\n",
    "# linear time o(n) Constant Space O(1) since we not stroing\n",
    "for c in array:\n",
    "    print(c, end=\" \")\n",
    "\n",
    "\n",
    "# copying a list to another list\n",
    "# time complexity O(n) Space O(n)\n",
    "newList = array[:]\n",
    "print()\n",
    "print(newList, end=\",\")"
   ]
  },
  {
   "cell_type": "code",
   "execution_count": null,
   "metadata": {},
   "outputs": [],
   "source": []
  },
  {
   "cell_type": "code",
   "execution_count": null,
   "metadata": {
    "scrolled": true
   },
   "outputs": [],
   "source": []
  },
  {
   "cell_type": "markdown",
   "metadata": {},
   "source": [
    "## Stacks and Queues (Review)\n",
    "\n",
    "** Stacks ** as the name suggests is a data structure that allows for data to follow the Last In First Out priciple(LIFO). Think of a stack of pancakes for example. To get the first pancake you would  start with the top and go down.\n",
    "\n",
    "##### Searching through a stack will be Linear Time O(n) - Constant Space O(1)\n",
    "##### Selecting the first item will be done in Linear Time O(n) - Constant Space O(1)\n",
    "##### Selecting the last item will be done in Constant Time O(1) - Constant Space O(1)\n",
    "##### Adding to the stack will be done in Constant Time O(1) - Constant Space O(1)\n",
    "\n",
    "** Queues ** are similar but in this case follow the First In First Out principle(FIFO). Think of this as a line in a black friday sale. The first person camped out for the big screen tv is the first to get it.\n",
    "\n",
    "##### Searching through a queue will be Linear Time O(n) - Constant Space O(1)\n",
    "##### Selecting the first item will be done in Constant Time O(1) - Constant Space O(1)\n",
    "##### Selecting the last item will be done in Linear Time O(n) - Constant Space O(1)\n",
    "##### Adding to the queue should take Constant Time O(1) - Constant Space O(1)"
   ]
  },
  {
   "cell_type": "code",
   "execution_count": 20,
   "metadata": {},
   "outputs": [],
   "source": [
    "# https://docs.python.org/3/library/collections.html#collections.deque\n",
    "from collections import deque"
   ]
  },
  {
   "cell_type": "code",
   "execution_count": 25,
   "metadata": {},
   "outputs": [
    {
     "name": "stdout",
     "output_type": "stream",
     "text": [
      "Stack: \n",
      "deque([10, 20, 30, 40, 60, 80, 90])\n",
      "90\n",
      "deque([10, 20, 30, 40, 60, 80])\n",
      "80\n",
      "deque([10, 20, 30, 40, 60])\n",
      "60\n",
      "deque([10, 20, 30, 40])\n",
      "40\n",
      "deque([10, 20, 30])\n",
      "30\n",
      "deque([10, 20])\n",
      "20\n",
      "deque([10])\n",
      "10\n",
      "deque([])\n"
     ]
    }
   ],
   "source": [
    "print(\"Stack: \")\n",
    "stack = deque()\n",
    "\n",
    "stack.append(10)\n",
    "stack.append(20)\n",
    "stack.append(30)\n",
    "stack.append(40)\n",
    "stack.append(60)\n",
    "stack.append(80)\n",
    "stack.append(90)\n",
    "print(stack)\n",
    "\n",
    "while stack:\n",
    "    print(stack.pop())\n",
    "    print(stack)"
   ]
  },
  {
   "cell_type": "code",
   "execution_count": 26,
   "metadata": {},
   "outputs": [
    {
     "name": "stdout",
     "output_type": "stream",
     "text": [
      "Apple\n",
      "Banana\n",
      "Carrot\n",
      "Dounuts\n",
      "Silicon\n"
     ]
    }
   ],
   "source": [
    "queue = deque()\n",
    "queue.append(\"Apple\")\n",
    "queue.append(\"Banana\")\n",
    "queue.append(\"Carrot\")\n",
    "queue.append(\"Dounuts\")\n",
    "queue.append(\"Silicon\")\n",
    "\n",
    "while queue:\n",
    "    x = queue.popleft()\n",
    "    print(x)"
   ]
  },
  {
   "cell_type": "markdown",
   "metadata": {},
   "source": [
    "## Linked List (Data Structure)\n",
    "\n",
    "A linked list is created by using the node class. We create a Node object and create another class to use this node object. We pass the appropriate values thorugh the node object to point the to the next data elements.\n",
    "\n",
    "There are some advantages and disadvantages with this data structure. **Advantages** Linked Lists can save memory because they can be flexibile with memory management which saves memory. **Disadvantages** Finding or adding to the list requires traversing the entire list."
   ]
  },
  {
   "cell_type": "code",
   "execution_count": 44,
   "metadata": {},
   "outputs": [
    {
     "name": "stdout",
     "output_type": "stream",
     "text": [
      "<Node | 90 >\n",
      "<Node | 40 >\n",
      "<Node | 30 >\n",
      "<Node | 20 >\n",
      "<Node | 10 >\n",
      "<Node | 90 >\n",
      "<Node | 900 >\n"
     ]
    }
   ],
   "source": [
    "class Node:\n",
    "    def __init__(self, value):\n",
    "        self.value = value\n",
    "        self.next = None\n",
    "        \n",
    "    def __str__(self):\n",
    "        return f\"<Node | {self.value} >\"\n",
    "    \n",
    "class LinkedList:\n",
    "    def __init__(self, node=None):\n",
    "        self.head = node\n",
    "        \n",
    "    def push_on(self, new_value):\n",
    "        newNode = Node(new_value)\n",
    "        newNode.next = self.head\n",
    "        self.head = newNode\n",
    "        \n",
    "        \n",
    "    def print_list(self):\n",
    "        node = self.head\n",
    "        \n",
    "        while node:\n",
    "            print(node)\n",
    "            node = node.next\n",
    "            \n",
    "    def getNode(self, value):\n",
    "        node = self.head\n",
    "        count = 0\n",
    "        while node:\n",
    "            if node.value == value:\n",
    "                return node\n",
    "            node = node.next\n",
    "            count += 1\n",
    "        return None\n",
    "    \n",
    "    def appendNode(self, value):\n",
    "        new_node = Node(value)\n",
    "        if self.head == None:\n",
    "            self.head = new_node\n",
    "        else:\n",
    "            node = self.head\n",
    "            while node.next is not None:\n",
    "                node = node.next\n",
    "            node.next = new_node\n",
    "            \n",
    "#     def insert_after(self, prev_value, new_value):    \n",
    "    \n",
    "    \n",
    "\n",
    "head = LinkedList()\n",
    "head.push_on(10)\n",
    "head.push_on(20)\n",
    "head.push_on(30)\n",
    "head.push_on(40)\n",
    "head.appendNode(90)\n",
    "head.appendNode(900)\n",
    "print(head.getNode(90))\n",
    "\n",
    "head.print_list()"
   ]
  },
  {
   "cell_type": "code",
   "execution_count": null,
   "metadata": {},
   "outputs": [],
   "source": []
  },
  {
   "cell_type": "code",
   "execution_count": null,
   "metadata": {},
   "outputs": [],
   "source": []
  },
  {
   "cell_type": "code",
   "execution_count": null,
   "metadata": {},
   "outputs": [],
   "source": [
    "import time"
   ]
  },
  {
   "cell_type": "code",
   "execution_count": null,
   "metadata": {},
   "outputs": [],
   "source": [
    "# Adding a new node the end of the list - O(n) - Linear Time\n",
    "a_linked_list = LinkedList()\n",
    "\n",
    "start = time.time()\n",
    "\n",
    "for i in range(1000):\n",
    "    a_linked_list.append(i)\n",
    "\n",
    "end = time.time()\n",
    "\n",
    "print(end - start)\n",
    "\n",
    "# Adding a new node to the beginning of the list - O(1) - Constant Time\n",
    "b_linked_list = LinkedList()\n",
    "\n",
    "start = time.time()\n",
    "\n",
    "for i in range(1000):\n",
    "    b_linked_list.push_on(i)\n",
    "\n",
    "end = time.time()\n",
    "\n",
    "print(end - start)"
   ]
  },
  {
   "cell_type": "code",
   "execution_count": null,
   "metadata": {},
   "outputs": [],
   "source": [
    "# Adding to the end of Python's built in list - O(1) - Constant Time\n",
    "normal_list_a = []\n",
    "\n",
    "start = time.time()\n",
    "\n",
    "for i in range(1000):\n",
    "    normal_list_a.append(i)\n",
    "\n",
    "end = time.time()\n",
    "\n",
    "print(end - start)\n",
    "\n",
    "# Adding a to the beginning of Python's built in list - O(n) - Linear Time\n",
    "normal_list_b = []\n",
    "\n",
    "start = time.time()\n",
    "\n",
    "for i in range(1000):\n",
    "    normal_list_b.insert(0, i)\n",
    "\n",
    "end = time.time()\n",
    "\n",
    "print(end - start)"
   ]
  },
  {
   "cell_type": "markdown",
   "metadata": {},
   "source": [
    "## Binary Search Trees"
   ]
  },
  {
   "cell_type": "code",
   "execution_count": null,
   "metadata": {},
   "outputs": [],
   "source": [
    "class BST:\n",
    "    def __init__(self, value):\n",
    "        self.right = None\n",
    "        self.left = None\n",
    "        self.value = value"
   ]
  },
  {
   "cell_type": "code",
   "execution_count": null,
   "metadata": {},
   "outputs": [],
   "source": []
  },
  {
   "cell_type": "code",
   "execution_count": null,
   "metadata": {},
   "outputs": [],
   "source": []
  },
  {
   "cell_type": "code",
   "execution_count": null,
   "metadata": {},
   "outputs": [],
   "source": []
  },
  {
   "cell_type": "markdown",
   "metadata": {},
   "source": [
    "# Homework"
   ]
  },
  {
   "cell_type": "markdown",
   "metadata": {},
   "source": [
    "#### Problem 1: Add a .remove method to the LinkedList\n",
    "\n",
    "Update the `.remove` method to the LinkedList class to remove a node from the list.\n",
    "\n",
    "The method should take in the value to remove and remove the node with that value from the LinkedList."
   ]
  },
  {
   "cell_type": "code",
   "execution_count": 60,
   "metadata": {
    "scrolled": true
   },
   "outputs": [
    {
     "name": "stdout",
     "output_type": "stream",
     "text": [
      "Monday\n",
      "Tuesday\n",
      "Wednesday\n",
      "Thursday\n",
      "Friday\n"
     ]
    }
   ],
   "source": [
    "class Node:\n",
    "    def __init__(self, value):\n",
    "        self.value = value\n",
    "        self.next = None\n",
    "        \n",
    "    def __str__(self):\n",
    "        return str(self.value)\n",
    "    \n",
    "    def __repr__(self):\n",
    "        return f\"<Node|{self.value}>\"\n",
    "\n",
    "class LinkedList:\n",
    "    def __init__(self, head_node=None):\n",
    "        self.head = head_node\n",
    "        \n",
    "    def push_on(self, new_value):\n",
    "        new_node = Node(new_value)\n",
    "        new_node.next = self.head\n",
    "        self.head = new_node\n",
    "        \n",
    "    def traverse_list(self):\n",
    "        node = self.head\n",
    "        while node is not None:\n",
    "            print(node)\n",
    "            node = node.next\n",
    "            \n",
    "    def append(self, new_value):\n",
    "        new_node = Node(new_value)\n",
    "        if self.head is None:\n",
    "            self.head = new_node\n",
    "        else:\n",
    "            node = self.head\n",
    "            while node.next is not None:\n",
    "                node = node.next\n",
    "            node.next = new_node\n",
    "            \n",
    "    def get_node(self, value_to_get):\n",
    "        node_to_check = self.head\n",
    "        while node_to_check is not None:\n",
    "            if node_to_check.value == value_to_get:\n",
    "                return node_to_check\n",
    "            node_to_check = node_to_check.next\n",
    "        return None\n",
    "    \n",
    "    def insert_after(self, prev_value, new_value):\n",
    "        prev_node = self.get_node(prev_value)\n",
    "        if prev_node is None:\n",
    "            print(f\"{prev_value} is not in the linked list.\")\n",
    "        else:\n",
    "            new_node = Node(new_value)\n",
    "            new_node.next = prev_node.next\n",
    "            prev_node.next = new_node\n",
    "            \n",
    "    def find_before(self, value_to_get):\n",
    "        node = self.head\n",
    "        while node.next is not None:\n",
    "            if node.next.value == value_to_get:\n",
    "                return node\n",
    "            node = node.next\n",
    "        return None\n",
    "            \n",
    "    def remove(self, value_to_remove):\n",
    "#         loop through the linkedList\n",
    "#         if the node.next.value == value \n",
    "#         mondayNode.next = tuesdayNode.next\n",
    "        node = self.head\n",
    "#     if what we searching for is in the head\n",
    "# just set head to the next node\n",
    "        if node.value == value_to_remove:\n",
    "            self.head = node.next\n",
    "#             print(\"HEAD\",self.head)\n",
    "            return\n",
    "#         print(node)\n",
    "        while node:\n",
    "            next_node = node.next\n",
    "            if next_node.value == value_to_remove:\n",
    "                node.next = next_node.next\n",
    "                return\n",
    "            node = node.next\n",
    "        return f\"{value_to_remove} was not found!\"\n",
    "\n",
    "weekdays = LinkedList()\n",
    "list_of_days = ['Sunday', 'Monday', 'Tuesday', 'Wednesday', 'Thursday', 'Friday', 'Saturday']\n",
    "for day in list_of_days:\n",
    "    weekdays.append(day)\n",
    "\n",
    "#     removing weekends\n",
    "weekdays.remove('Tuesday')\n",
    "weekdays.remove('Saturday')\n",
    "weekdays.remove('Sunday')\n",
    "# I added back Tuesdays\n",
    "weekdays.insert_after('Monday', \"Tuesday\")\n",
    "weekdays.traverse_list()\n",
    "\n"
   ]
  },
  {
   "cell_type": "code",
   "execution_count": null,
   "metadata": {},
   "outputs": [],
   "source": []
  }
 ],
 "metadata": {
  "kernelspec": {
   "display_name": "Python 3 (ipykernel)",
   "language": "python",
   "name": "python3"
  },
  "language_info": {
   "codemirror_mode": {
    "name": "ipython",
    "version": 3
   },
   "file_extension": ".py",
   "mimetype": "text/x-python",
   "name": "python",
   "nbconvert_exporter": "python",
   "pygments_lexer": "ipython3",
   "version": "3.11.4"
  }
 },
 "nbformat": 4,
 "nbformat_minor": 2
}
